{
 "cells": [
  {
   "cell_type": "code",
   "execution_count": 1,
   "metadata": {
    "collapsed": true
   },
   "outputs": [],
   "source": [
    "import numpy as np\n",
    "import os\n",
    "import time"
   ]
  },
  {
   "cell_type": "code",
   "execution_count": 2,
   "metadata": {
    "collapsed": false
   },
   "outputs": [
    {
     "data": {
      "text/plain": [
       "'Thu Jul 27 16:31:34 2017'"
      ]
     },
     "execution_count": 2,
     "metadata": {},
     "output_type": "execute_result"
    }
   ],
   "source": [
    "st=time.clock()\n",
    "time.ctime()"
   ]
  },
  {
   "cell_type": "code",
   "execution_count": 3,
   "metadata": {
    "collapsed": false
   },
   "outputs": [],
   "source": [
    "os.chdir(\"/Users/sdw/R/\")"
   ]
  },
  {
   "cell_type": "code",
   "execution_count": 4,
   "metadata": {
    "collapsed": true
   },
   "outputs": [],
   "source": [
    "popsize=100\n",
    "popsize_half=round(popsize/2)\n",
    "noff=5\n",
    "ngen=200\n",
    "mort_A1=0\n",
    "mort_A2=0\n",
    "nloci=2\n",
    "male_recomb=False\n",
    "reps=1\n",
    "recomb_rate=0\n",
    "\n",
    "A1=1\n",
    "A2=2\n",
    "B1=10\n",
    "B2=20"
   ]
  },
  {
   "cell_type": "code",
   "execution_count": 5,
   "metadata": {
    "collapsed": true
   },
   "outputs": [],
   "source": [
    "alle_names=list()\n",
    "alle_names.append([A1,A2])\n",
    "alle_names.append([B1,B2])\n",
    "alle_freq=list()\n",
    "alle_freq.append([0.5,0.5])\n",
    "alle_freq.append([0.2,0.8])"
   ]
  },
  {
   "cell_type": "code",
   "execution_count": 6,
   "metadata": {
    "collapsed": false
   },
   "outputs": [
    {
     "data": {
      "text/plain": [
       "[[0.5, 0.5], [0.2, 0.8]]"
      ]
     },
     "execution_count": 6,
     "metadata": {},
     "output_type": "execute_result"
    }
   ],
   "source": [
    "alle_freq"
   ]
  },
  {
   "cell_type": "code",
   "execution_count": 7,
   "metadata": {
    "collapsed": false
   },
   "outputs": [],
   "source": [
    "starting_pop=np.zeros(shape=(popsize,2*nloci+6+1),dtype=np.int) # extra col to coincide with R"
   ]
  },
  {
   "cell_type": "code",
   "execution_count": 8,
   "metadata": {
    "collapsed": false
   },
   "outputs": [],
   "source": [
    "starting_pop[0:popsize_half,1]=0 # males\n",
    "starting_pop[popsize_half:popsize,1]=1 # females\n",
    "starting_pop[:,2]=1 # population\n",
    "starting_pop[:,3]=0 # initial generation\n",
    "starting_pop[:,4]=0 # male parent\n",
    "starting_pop[:,5]=0 # female parent\n",
    "starting_pop[:,6]=range(popsize) # id"
   ]
  },
  {
   "cell_type": "code",
   "execution_count": 9,
   "metadata": {
    "collapsed": false
   },
   "outputs": [],
   "source": [
    "for k in range(nloci):\n",
    "    starting_pop[:,6+k+1]=np.random.choice(alle_names[k],p=alle_freq[k],size=popsize,replace=True)\n",
    "    starting_pop[:,8+k+1]=np.random.choice(alle_names[k],p=alle_freq[k],size=popsize,replace=True)"
   ]
  },
  {
   "cell_type": "code",
   "execution_count": 10,
   "metadata": {
    "collapsed": false
   },
   "outputs": [],
   "source": [
    "nextgen=starting_pop"
   ]
  },
  {
   "cell_type": "code",
   "execution_count": 11,
   "metadata": {
    "collapsed": true
   },
   "outputs": [],
   "source": [
    "het_tot_A=list()\n",
    "het_tot_B=list()\n",
    "gen_tot=list()\n",
    "alle_freq_tot_A1=list()\n",
    "alle_freq_tot_A2=list()"
   ]
  },
  {
   "cell_type": "code",
   "execution_count": 12,
   "metadata": {
    "collapsed": false
   },
   "outputs": [
    {
     "name": "stdout",
     "output_type": "stream",
     "text": [
      "g = 1\n",
      "g = 2\n",
      "g = 3\n",
      "g = 4\n",
      "g = 5\n",
      "g = 6\n",
      "g = 7\n",
      "g = 8\n",
      "g = 9\n",
      "g = 10\n",
      "g = 11\n",
      "g = 12\n",
      "g = 13\n",
      "g = 14\n",
      "g = 15\n",
      "g = 16\n",
      "g = 17\n",
      "g = 18\n",
      "g = 19\n",
      "g = 20\n",
      "g = 21\n",
      "g = 22\n",
      "g = 23\n",
      "g = 24\n",
      "g = 25\n",
      "g = 26\n",
      "g = 27\n",
      "g = 28\n",
      "g = 29\n",
      "g = 30\n",
      "g = 31\n",
      "g = 32\n",
      "g = 33\n",
      "g = 34\n",
      "g = 35\n",
      "g = 36\n",
      "g = 37\n",
      "g = 38\n",
      "g = 39\n",
      "g = 40\n",
      "g = 41\n",
      "g = 42\n",
      "g = 43\n",
      "g = 44\n",
      "g = 45\n",
      "g = 46\n",
      "g = 47\n",
      "g = 48\n",
      "g = 49\n",
      "g = 50\n",
      "g = 51\n",
      "g = 52\n",
      "g = 53\n",
      "g = 54\n",
      "g = 55\n",
      "g = 56\n",
      "g = 57\n",
      "g = 58\n",
      "g = 59\n",
      "g = 60\n",
      "g = 61\n",
      "g = 62\n",
      "g = 63\n",
      "g = 64\n",
      "g = 65\n",
      "g = 66\n",
      "g = 67\n",
      "g = 68\n",
      "g = 69\n",
      "g = 70\n",
      "g = 71\n",
      "g = 72\n",
      "g = 73\n",
      "g = 74\n",
      "g = 75\n",
      "g = 76\n",
      "g = 77\n",
      "g = 78\n",
      "g = 79\n",
      "g = 80\n",
      "g = 81\n",
      "g = 82\n",
      "g = 83\n",
      "g = 84\n",
      "g = 85\n",
      "g = 86\n",
      "g = 87\n",
      "g = 88\n",
      "g = 89\n",
      "g = 90\n",
      "g = 91\n",
      "g = 92\n",
      "g = 93\n",
      "g = 94\n",
      "g = 95\n",
      "g = 96\n",
      "g = 97\n",
      "g = 98\n",
      "g = 99\n",
      "g = 100\n",
      "g = 101\n",
      "g = 102\n",
      "g = 103\n",
      "g = 104\n",
      "g = 105\n",
      "g = 106\n",
      "g = 107\n",
      "g = 108\n",
      "g = 109\n",
      "g = 110\n",
      "g = 111\n",
      "g = 112\n",
      "g = 113\n",
      "g = 114\n",
      "g = 115\n",
      "g = 116\n",
      "g = 117\n",
      "g = 118\n",
      "g = 119\n",
      "g = 120\n",
      "g = 121\n",
      "g = 122\n",
      "g = 123\n",
      "g = 124\n",
      "g = 125\n",
      "g = 126\n",
      "g = 127\n",
      "g = 128\n",
      "g = 129\n",
      "g = 130\n",
      "g = 131\n",
      "g = 132\n",
      "g = 133\n",
      "g = 134\n",
      "g = 135\n",
      "g = 136\n",
      "g = 137\n",
      "g = 138\n",
      "g = 139\n",
      "g = 140\n",
      "g = 141\n",
      "g = 142\n",
      "g = 143\n",
      "g = 144\n",
      "g = 145\n",
      "g = 146\n",
      "g = 147\n",
      "g = 148\n",
      "g = 149\n",
      "g = 150\n",
      "g = 151\n",
      "g = 152\n",
      "g = 153\n",
      "g = 154\n",
      "g = 155\n",
      "g = 156\n",
      "No more A2 after generation 156\n"
     ]
    }
   ],
   "source": [
    "g=0\n",
    "while (True):\n",
    "    g=g+1\n",
    "    print(\"g = {}\".format(g))\n",
    "    male_parents=np.where(starting_pop[:,1]==0)[0]\n",
    "    female_parents=np.where(starting_pop[:,1]==1)[0]\n",
    "    parent_matrix=np.zeros(shape=(popsize,2+1),dtype=np.int)\n",
    "    parent_matrix[:,1]=np.random.choice(male_parents,size=popsize,replace=True)\n",
    "    parent_matrix[:,2]=np.random.choice(female_parents,size=popsize,replace=True)\n",
    "    offspring_matrix=np.zeros(shape=(popsize*noff,8+2*nloci+1),dtype=np.int)\n",
    "    for p in range(popsize):\n",
    "        offspring_matrix[p*noff:(p+1)*noff,1]=np.random.choice([0,1],size=noff,replace=True)\n",
    "        offspring_matrix[p*noff:(p+1)*noff,2]=1\n",
    "        offspring_matrix[p*noff:(p+1)*noff,3]=parent_matrix[p,1]\n",
    "        offspring_matrix[p*noff:(p+1)*noff,4]=parent_matrix[p,2]\n",
    "        \n",
    "        mchrome1=list((starting_pop[parent_matrix[p,1],7],starting_pop[parent_matrix[p,1],8]))\n",
    "        mchrome2=list((starting_pop[parent_matrix[p,1],9],starting_pop[parent_matrix[p,1],10]))\n",
    "        fchrome1=list((starting_pop[parent_matrix[p,2],7],starting_pop[parent_matrix[p,2],8]))\n",
    "        fchrome2=list((starting_pop[parent_matrix[p,2],9],starting_pop[parent_matrix[p,2],10]))\n",
    "        \n",
    "        for n in range(noff):\n",
    "            randad=np.random.rand(1)\n",
    "            if randad<recomb_rate and male_recomb:\n",
    "                mctemp1=list((mchrome1[0],mchrome2[1]))\n",
    "                mctemp2=list((mchrome2[0],mchrome1[1]))\n",
    "            else:\n",
    "                mctemp1=list((mchrome1[0],mchrome1[1]))\n",
    "                mctemp2=list((mchrome2[0],mchrome2[1]))\n",
    "            malechrome=list((mctemp1,mctemp2))\n",
    "            offspring_matrix[p*noff+n,8:10]=malechrome[np.random.choice([0,1])]\n",
    "            \n",
    "            ranmom=np.random.rand(1)\n",
    "            if ranmom<recomb_rate:\n",
    "                fctemp1=list((fchrome1[0],fchrome2[1]))\n",
    "                fctemp2=list((fchrome2[0],fchrome1[1]))\n",
    "            else:\n",
    "                fctemp1=list((fchrome1[0],fchrome1[1]))\n",
    "                fctemp2=list((fchrome2[0],fchrome2[1]))\n",
    "            femalechrome=list((fctemp1,fctemp2))\n",
    "            offspring_matrix[p*noff+n,10:12]=femalechrome[np.random.choice([0,1])]\n",
    "                \n",
    "    offspring_matrix[:,6]=range(popsize*noff) # id\n",
    "    offspring_matrix[:,7]=1 # alive\n",
    "        \n",
    "    offspring_matrix[:,12]=np.random.rand(popsize*noff)<mort_A1\n",
    "    deadA1=(offspring_matrix[:,8]==A1) & (offspring_matrix[:,10]==A1) & offspring_matrix[:,12]\n",
    "    offspring_matrix[deadA1,7]=0\n",
    "    offspring_matrix[:,12]=np.random.rand(popsize*noff)<mort_A2\n",
    "    deadA2=(offspring_matrix[:,8]==A2) & (offspring_matrix[:,10]==A2) & offspring_matrix[:,12]\n",
    "    offspring_matrix[deadA2,7]=0 \n",
    "    \n",
    "    male_off=np.where((offspring_matrix[:,1]==0) & offspring_matrix[:,7])[0]\n",
    "    female_off=np.where((offspring_matrix[:,1]==1) & offspring_matrix[:,7])[0]\n",
    "    \n",
    "    collist=[0,1,2,3,4,5,6,8,9,10,11]\n",
    "    starting_pop[0:popsize_half]=offspring_matrix[np.random.choice(male_off,size=popsize_half)][:,collist]    \n",
    "    starting_pop[popsize_half:]=offspring_matrix[np.random.choice(female_off,size=popsize_half)][:,collist]\n",
    "    \n",
    "    nextgen=np.vstack((nextgen,starting_pop))\n",
    "    \n",
    "    count_A1=sum(starting_pop[:,7]==A1)+sum(starting_pop[:,9]==A1)\n",
    "    count_A2=sum(starting_pop[:,7]==A2)+sum(starting_pop[:,9]==A2)\n",
    "    count_B1=sum(starting_pop[:,8]==B1)+sum(starting_pop[:,10]==B1)\n",
    "    count_B2=sum(starting_pop[:,8]==B2)+sum(starting_pop[:,10]==B2)\n",
    "    alle_freq_A1=count_A1/(2.0*popsize)\n",
    "    alle_freq_A2=count_A2/(2.0*popsize)\n",
    "    alle_freq_B1=count_B1/(2.0*popsize)\n",
    "    alle_freq_B2=count_B2/(2.0*popsize)\n",
    "    het_A=1-(np.power(alle_freq_A1,2)+np.power(alle_freq_A2,2))\n",
    "    het_B=1-(np.power(alle_freq_B1,2)+np.power(alle_freq_B2,2))\n",
    "    het_tot_A.append(het_A)\n",
    "    het_tot_B.append(het_B)\n",
    "    gen_tot.append(g)\n",
    "    alle_freq_tot_A1.append(alle_freq_A1)\n",
    "    alle_freq_tot_A2.append(alle_freq_A2)\n",
    "    if alle_freq_A1==0:\n",
    "        print(\"No more A1 after generation {}\".format(g))\n",
    "        break\n",
    "    if alle_freq_A2==0:\n",
    "        print(\"No more A2 after generation {}\".format(g))\n",
    "        break\n",
    "    "
   ]
  },
  {
   "cell_type": "code",
   "execution_count": 13,
   "metadata": {
    "collapsed": false
   },
   "outputs": [
    {
     "data": {
      "text/plain": [
       "'Thu Jul 27 16:31:39 2017'"
      ]
     },
     "execution_count": 13,
     "metadata": {},
     "output_type": "execute_result"
    }
   ],
   "source": [
    "et=time.clock()\n",
    "time.ctime()"
   ]
  },
  {
   "cell_type": "code",
   "execution_count": 14,
   "metadata": {
    "collapsed": false
   },
   "outputs": [
    {
     "name": "stdout",
     "output_type": "stream",
     "text": [
      "Stop the clock 5.65661\n"
     ]
    }
   ],
   "source": [
    "print(\"Stop the clock {}\".format(et-st))"
   ]
  },
  {
   "cell_type": "code",
   "execution_count": 15,
   "metadata": {
    "collapsed": false
   },
   "outputs": [
    {
     "data": {
      "text/plain": [
       "156"
      ]
     },
     "execution_count": 15,
     "metadata": {},
     "output_type": "execute_result"
    }
   ],
   "source": [
    "sum(np.array(alle_freq_tot_A1)>0)"
   ]
  },
  {
   "cell_type": "code",
   "execution_count": 16,
   "metadata": {
    "collapsed": false
   },
   "outputs": [
    {
     "data": {
      "text/plain": [
       "155"
      ]
     },
     "execution_count": 16,
     "metadata": {},
     "output_type": "execute_result"
    }
   ],
   "source": [
    "sum(np.array(alle_freq_tot_A2)>0)"
   ]
  }
 ],
 "metadata": {
  "kernelspec": {
   "display_name": "Python [default]",
   "language": "python",
   "name": "python3"
  },
  "language_info": {
   "codemirror_mode": {
    "name": "ipython",
    "version": 3
   },
   "file_extension": ".py",
   "mimetype": "text/x-python",
   "name": "python",
   "nbconvert_exporter": "python",
   "pygments_lexer": "ipython3",
   "version": "3.5.2"
  }
 },
 "nbformat": 4,
 "nbformat_minor": 1
}
