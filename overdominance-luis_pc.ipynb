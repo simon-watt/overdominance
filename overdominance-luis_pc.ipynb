{
 "cells": [
  {
   "cell_type": "code",
   "execution_count": 1,
   "metadata": {
    "collapsed": true
   },
   "outputs": [],
   "source": [
    "import numpy as np\n",
    "import os\n",
    "import time"
   ]
  },
  {
   "cell_type": "code",
   "execution_count": 2,
   "metadata": {},
   "outputs": [
    {
     "name": "stdout",
     "output_type": "stream",
     "text": [
      "pid = 25992\n"
     ]
    }
   ],
   "source": [
    "st=time.clock()\n",
    "time.ctime()\n",
    "pid=os.getpid()\n",
    "print(\"pid = {}\".format(pid))"
   ]
  },
  {
   "cell_type": "code",
   "execution_count": 3,
   "metadata": {},
   "outputs": [],
   "source": [
    "np.random.seed(pid)"
   ]
  },
  {
   "cell_type": "code",
   "execution_count": 4,
   "metadata": {
    "collapsed": true
   },
   "outputs": [],
   "source": [
    "popsize=100\n",
    "popsize_half=round(popsize/2)\n",
    "noff=5\n",
    "ngen=200\n",
    "mort_A1=0\n",
    "mort_A2=0\n",
    "nloci=2\n",
    "male_recomb=False\n",
    "reps=1\n",
    "recomb_rate=0\n",
    "\n",
    "A1=1\n",
    "A2=2\n",
    "B1=10\n",
    "B2=20"
   ]
  },
  {
   "cell_type": "code",
   "execution_count": 5,
   "metadata": {
    "collapsed": true
   },
   "outputs": [],
   "source": [
    "alle_names=list()\n",
    "alle_names.append([A1,A2])\n",
    "alle_names.append([B1,B2])\n",
    "alle_freq=list()\n",
    "alle_freq.append([0.5,0.5])\n",
    "alle_freq.append([0.2,0.8])"
   ]
  },
  {
   "cell_type": "code",
   "execution_count": 6,
   "metadata": {},
   "outputs": [
    {
     "data": {
      "text/plain": [
       "[[0.5, 0.5], [0.2, 0.8]]"
      ]
     },
     "execution_count": 6,
     "metadata": {},
     "output_type": "execute_result"
    }
   ],
   "source": [
    "alle_freq"
   ]
  },
  {
   "cell_type": "code",
   "execution_count": 7,
   "metadata": {
    "collapsed": true
   },
   "outputs": [],
   "source": [
    "starting_pop=np.zeros(shape=(popsize,2*nloci+6+1),dtype=np.int) # extra col to coincide with R"
   ]
  },
  {
   "cell_type": "code",
   "execution_count": 8,
   "metadata": {
    "collapsed": true
   },
   "outputs": [],
   "source": [
    "starting_pop[0:popsize_half,1]=0 # males\n",
    "starting_pop[popsize_half:popsize,1]=1 # females\n",
    "starting_pop[:,2]=1 # population\n",
    "starting_pop[:,3]=0 # initial generation\n",
    "starting_pop[:,4]=0 # male parent\n",
    "starting_pop[:,5]=0 # female parent\n",
    "starting_pop[:,6]=range(popsize) # id"
   ]
  },
  {
   "cell_type": "code",
   "execution_count": 9,
   "metadata": {
    "collapsed": true
   },
   "outputs": [],
   "source": [
    "for k in range(nloci):\n",
    "    starting_pop[:,6+k+1]=np.random.choice(alle_names[k],p=alle_freq[k],size=popsize,replace=True)\n",
    "    starting_pop[:,8+k+1]=np.random.choice(alle_names[k],p=alle_freq[k],size=popsize,replace=True)"
   ]
  },
  {
   "cell_type": "code",
   "execution_count": 10,
   "metadata": {
    "collapsed": true
   },
   "outputs": [],
   "source": [
    "nextgen=starting_pop"
   ]
  },
  {
   "cell_type": "code",
   "execution_count": 11,
   "metadata": {
    "collapsed": true
   },
   "outputs": [],
   "source": [
    "het_tot_A=list()\n",
    "het_tot_B=list()\n",
    "gen_tot=list()\n",
    "alle_freq_tot_A1=list()\n",
    "alle_freq_tot_A2=list()"
   ]
  },
  {
   "cell_type": "code",
   "execution_count": 12,
   "metadata": {},
   "outputs": [
    {
     "name": "stdout",
     "output_type": "stream",
     "text": [
      "No more A2 after generation 135\n"
     ]
    }
   ],
   "source": [
    "g=0\n",
    "while (True):\n",
    "    g=g+1\n",
    "#    print(\"g = {}\".format(g))\n",
    "    male_parents=np.where(starting_pop[:,1]==0)[0]\n",
    "    female_parents=np.where(starting_pop[:,1]==1)[0]\n",
    "    parent_matrix=np.zeros(shape=(popsize,2+1),dtype=np.int)\n",
    "    parent_matrix[:,1]=np.random.choice(male_parents,size=popsize,replace=True)\n",
    "    parent_matrix[:,2]=np.random.choice(female_parents,size=popsize,replace=True)\n",
    "    offspring_matrix=np.zeros(shape=(popsize*noff,8+2*nloci+1),dtype=np.int)\n",
    "    for p in range(popsize):\n",
    "        offspring_matrix[p*noff:(p+1)*noff,1]=np.random.choice([0,1],size=noff,replace=True)\n",
    "        offspring_matrix[p*noff:(p+1)*noff,2]=1\n",
    "        offspring_matrix[p*noff:(p+1)*noff,3]=parent_matrix[p,1]\n",
    "        offspring_matrix[p*noff:(p+1)*noff,4]=parent_matrix[p,2]\n",
    "        \n",
    "        mchrome1=list((starting_pop[parent_matrix[p,1],7],starting_pop[parent_matrix[p,1],8]))\n",
    "        mchrome2=list((starting_pop[parent_matrix[p,1],9],starting_pop[parent_matrix[p,1],10]))\n",
    "        fchrome1=list((starting_pop[parent_matrix[p,2],7],starting_pop[parent_matrix[p,2],8]))\n",
    "        fchrome2=list((starting_pop[parent_matrix[p,2],9],starting_pop[parent_matrix[p,2],10]))\n",
    "        \n",
    "        for n in range(noff):\n",
    "            randad=np.random.rand(1)\n",
    "            if randad<recomb_rate and male_recomb:\n",
    "                mctemp1=list((mchrome1[0],mchrome2[1]))\n",
    "                mctemp2=list((mchrome2[0],mchrome1[1]))\n",
    "            else:\n",
    "                mctemp1=list((mchrome1[0],mchrome1[1]))\n",
    "                mctemp2=list((mchrome2[0],mchrome2[1]))\n",
    "            malechrome=list((mctemp1,mctemp2))\n",
    "            offspring_matrix[p*noff+n,8:10]=malechrome[np.random.choice([0,1])]\n",
    "            \n",
    "            ranmom=np.random.rand(1)\n",
    "            if ranmom<recomb_rate:\n",
    "                fctemp1=list((fchrome1[0],fchrome2[1]))\n",
    "                fctemp2=list((fchrome2[0],fchrome1[1]))\n",
    "            else:\n",
    "                fctemp1=list((fchrome1[0],fchrome1[1]))\n",
    "                fctemp2=list((fchrome2[0],fchrome2[1]))\n",
    "            femalechrome=list((fctemp1,fctemp2))\n",
    "            offspring_matrix[p*noff+n,10:12]=femalechrome[np.random.choice([0,1])]\n",
    "                \n",
    "    offspring_matrix[:,6]=range(popsize*noff) # id\n",
    "    offspring_matrix[:,7]=1 # alive\n",
    "        \n",
    "    offspring_matrix[:,12]=np.random.rand(popsize*noff)<mort_A1\n",
    "    deadA1=(offspring_matrix[:,8]==A1) & (offspring_matrix[:,10]==A1) & offspring_matrix[:,12]\n",
    "    offspring_matrix[deadA1,7]=0\n",
    "    offspring_matrix[:,12]=np.random.rand(popsize*noff)<mort_A2\n",
    "    deadA2=(offspring_matrix[:,8]==A2) & (offspring_matrix[:,10]==A2) & offspring_matrix[:,12]\n",
    "    offspring_matrix[deadA2,7]=0 \n",
    "    \n",
    "    male_off=np.where((offspring_matrix[:,1]==0) & offspring_matrix[:,7])[0]\n",
    "    female_off=np.where((offspring_matrix[:,1]==1) & offspring_matrix[:,7])[0]\n",
    "    \n",
    "    collist=[0,1,2,3,4,5,6,8,9,10,11]\n",
    "    starting_pop[0:popsize_half]=offspring_matrix[np.random.choice(male_off,size=popsize_half)][:,collist]    \n",
    "    starting_pop[popsize_half:]=offspring_matrix[np.random.choice(female_off,size=popsize_half)][:,collist]\n",
    "    \n",
    "    nextgen=np.vstack((nextgen,starting_pop))\n",
    "    \n",
    "    count_A1=sum(starting_pop[:,7]==A1)+sum(starting_pop[:,9]==A1)\n",
    "    count_A2=sum(starting_pop[:,7]==A2)+sum(starting_pop[:,9]==A2)\n",
    "    count_B1=sum(starting_pop[:,8]==B1)+sum(starting_pop[:,10]==B1)\n",
    "    count_B2=sum(starting_pop[:,8]==B2)+sum(starting_pop[:,10]==B2)\n",
    "    alle_freq_A1=count_A1/(2.0*popsize)\n",
    "    alle_freq_A2=count_A2/(2.0*popsize)\n",
    "    alle_freq_B1=count_B1/(2.0*popsize)\n",
    "    alle_freq_B2=count_B2/(2.0*popsize)\n",
    "    het_A=1-(np.power(alle_freq_A1,2)+np.power(alle_freq_A2,2))\n",
    "    het_B=1-(np.power(alle_freq_B1,2)+np.power(alle_freq_B2,2))\n",
    "    het_tot_A.append(het_A)\n",
    "    het_tot_B.append(het_B)\n",
    "    gen_tot.append(g)\n",
    "    alle_freq_tot_A1.append(alle_freq_A1)\n",
    "    alle_freq_tot_A2.append(alle_freq_A2)\n",
    "    if alle_freq_A1==0:\n",
    "        print(\"No more A1 after generation {}\".format(g))\n",
    "        break\n",
    "    if alle_freq_A2==0:\n",
    "        print(\"No more A2 after generation {}\".format(g))\n",
    "        break\n",
    "    "
   ]
  },
  {
   "cell_type": "code",
   "execution_count": 13,
   "metadata": {},
   "outputs": [
    {
     "data": {
      "text/plain": [
       "'Tue Aug 22 11:23:13 2017'"
      ]
     },
     "execution_count": 13,
     "metadata": {},
     "output_type": "execute_result"
    }
   ],
   "source": [
    "et=time.clock()\n",
    "time.ctime()"
   ]
  },
  {
   "cell_type": "code",
   "execution_count": 14,
   "metadata": {},
   "outputs": [
    {
     "name": "stdout",
     "output_type": "stream",
     "text": [
      "Stop the clock 2.2\n"
     ]
    }
   ],
   "source": [
    "print(\"Stop the clock {}\".format(et-st))"
   ]
  },
  {
   "cell_type": "code",
   "execution_count": null,
   "metadata": {},
   "outputs": [],
   "source": []
  },
  {
   "cell_type": "code",
   "execution_count": null,
   "metadata": {},
   "outputs": [],
   "source": []
  }
 ],
 "metadata": {
  "kernelspec": {
   "display_name": "Python 3",
   "language": "python",
   "name": "python3"
  },
  "language_info": {
   "codemirror_mode": {
    "name": "ipython",
    "version": 3
   },
   "file_extension": ".py",
   "mimetype": "text/x-python",
   "name": "python",
   "nbconvert_exporter": "python",
   "pygments_lexer": "ipython3",
   "version": "3.6.1"
  }
 },
 "nbformat": 4,
 "nbformat_minor": 1
}
